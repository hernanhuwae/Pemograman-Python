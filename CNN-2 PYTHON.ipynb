{
  "nbformat": 4,
  "nbformat_minor": 0,
  "metadata": {
    "colab": {
      "name": "Untitled9.ipynb",
      "provenance": [],
      "mount_file_id": "1QEbEWYUmt3d1_sYxAGNzgKNfCnsA2FDR",
      "authorship_tag": "ABX9TyOd/l5c+9brXOr2u+L2En3S",
      "include_colab_link": true
    },
    "kernelspec": {
      "name": "python3",
      "display_name": "Python 3"
    },
    "accelerator": "TPU"
  },
  "cells": [
    {
      "cell_type": "markdown",
      "metadata": {
        "id": "view-in-github",
        "colab_type": "text"
      },
      "source": [
        "<a href=\"https://colab.research.google.com/github/hernanhuwae/Pemograman-Python/blob/main/CNN-2%20PYTHON.ipynb\" target=\"_parent\"><img src=\"https://colab.research.google.com/assets/colab-badge.svg\" alt=\"Open In Colab\"/></a>"
      ]
    },
    {
      "cell_type": "code",
      "metadata": {
        "colab": {
          "base_uri": "https://localhost:8080/"
        },
        "id": "gm6A4fM5POci",
        "outputId": "7ddd496f-b757-4e1b-baf0-dfb3e15c7094"
      },
      "source": [
        "cd /content/drive/MyDrive/DAUNPITON"
      ],
      "execution_count": 1,
      "outputs": [
        {
          "output_type": "stream",
          "text": [
            "/content/drive/MyDrive/DAUNPITON\n"
          ],
          "name": "stdout"
        }
      ]
    },
    {
      "cell_type": "code",
      "metadata": {
        "colab": {
          "base_uri": "https://localhost:8080/"
        },
        "id": "TMQh6F_EPbCX",
        "outputId": "35a2d6bb-43c2-4a89-e1e3-32f43926b669"
      },
      "source": [
        "ls"
      ],
      "execution_count": 2,
      "outputs": [
        {
          "output_type": "stream",
          "text": [
            "\u001b[0m\u001b[01;34mDAUNSAYA\u001b[0m/  \u001b[01;34mnnmodel_scene\u001b[0m/\n"
          ],
          "name": "stdout"
        }
      ]
    },
    {
      "cell_type": "code",
      "metadata": {
        "id": "h9sDcpiiPcq4"
      },
      "source": [
        "from keras.models import Sequential\n",
        "from keras.layers.core import Activation\n",
        "from keras.layers.core import Flatten\n",
        "from keras.layers.core import Dense\n",
        "from keras.optimizers import Adam\n",
        "from sklearn.preprocessing import LabelBinarizer\n",
        "from sklearn.model_selection import train_test_split\n",
        "from sklearn.metrics import classification_report\n",
        "from PIL import Image\n",
        "from imutils import paths\n",
        "import numpy as np\n",
        "import os"
      ],
      "execution_count": 3,
      "outputs": []
    },
    {
      "cell_type": "code",
      "metadata": {
        "colab": {
          "base_uri": "https://localhost:8080/"
        },
        "id": "3JOs2wiZPigB",
        "outputId": "2c495643-aa8e-4f2b-b53c-7b35f492af1d"
      },
      "source": [
        "print(\"[INFO] loading images...\")\n",
        "imagePaths = paths.list_images(\"DAUNSAYA\")\n",
        "data = []\n",
        "labels = []"
      ],
      "execution_count": 4,
      "outputs": [
        {
          "output_type": "stream",
          "text": [
            "[INFO] loading images...\n"
          ],
          "name": "stdout"
        }
      ]
    },
    {
      "cell_type": "code",
      "metadata": {
        "id": "YzgmFHBPP0Rx"
      },
      "source": [
        "for imagePath in imagePaths:\n",
        "\n",
        "\timage = Image.open(imagePath)\n",
        "\timage = np.array(image.resize((64, 64))) / 255.0 #normalisasi\n",
        "\tdata.append(image)\n",
        "\n",
        "\tlabel = imagePath.split(os.path.sep)[-2]\n",
        "\tlabels.append(label)"
      ],
      "execution_count": 5,
      "outputs": []
    },
    {
      "cell_type": "code",
      "metadata": {
        "colab": {
          "base_uri": "https://localhost:8080/"
        },
        "id": "jfLzLAa8S2RR",
        "outputId": "3eb05e36-bcc9-416e-cfac-0d4d5b5b9ad1"
      },
      "source": [
        "print(labels)"
      ],
      "execution_count": 6,
      "outputs": [
        {
          "output_type": "stream",
          "text": [
            "['GMB_01', 'GMB_01', 'GMB_01', 'GMB_01', 'GMB_01', 'GMB_01', 'GMB_01', 'GMB_01', 'GMB_01', 'GMB_01', 'GMB_01', 'GMB_01', 'GMB_01', 'GMB_01', 'GMB_01', 'GMB_01', 'GMB_01', 'GMB_01', 'GMB_01', 'GMB_01', 'GMB_01', 'GMB_01', 'GMB_01', 'GMB_01', 'GMB_01', 'GMB_01', 'GMB_01', 'GMB_01', 'GMB_01', 'GMB_01', 'GMB_01', 'GMB_01', 'GMB_01', 'GMB_01', 'GMB_01', 'GMB_01', 'GMB_01', 'GMB_01', 'GMB_01', 'GMB_01', 'GMB_01', 'GMB_01', 'GMB_01', 'GMB_01', 'GMB_01', 'GMB_01', 'GMB_01', 'GMB_01', 'GMB_01', 'GMB_01', 'GMB_01', 'GMB_01', 'GMB_01', 'GMB_01', 'GMB_01', 'GMB_01', 'GMB_01', 'GMB_01', 'GMB_01', 'GMB_01', 'GMB_01', 'GMB_01', 'GMB_01', 'GMB_01', 'GMB_01', 'GMB_01', 'GMB_01', 'GMB_01', 'GMB_01', 'GMB_01', 'GMB_01', 'GMB_01', 'GMB_01', 'GMB_01', 'GMB_01', 'GMB_01', 'GMB_01', 'GMB_01', 'GMB_01', 'GMB_01', 'GMB_01', 'GMB_01', 'GMB_01', 'GMB_01', 'GMB_01', 'GMB_01', 'GMB_01', 'GMB_01', 'GMB_01', 'GMB_01', 'GMB_01', 'GMB_01', 'GMB_01', 'GMB_01', 'GMB_01', 'GMB_01', 'GMB_01', 'GMB_01', 'GMB_01', 'GMB_01', 'GMB_01', 'GMB_01', 'GMB_01', 'GMB_01', 'GMB_01', 'GMB_01', 'GMB_01', 'GMB_01', 'GMB_01', 'GMB_01', 'GMB_01', 'GMB_01', 'GMB_01', 'GMB_01', 'GMB_01', 'GMB_01', 'GMB_03', 'GMB_03', 'GMB_03', 'GMB_03', 'GMB_03', 'GMB_03', 'GMB_03', 'GMB_03', 'GMB_03', 'GMB_03', 'GMB_03', 'GMB_03', 'GMB_03', 'GMB_03', 'GMB_03', 'GMB_03', 'GMB_03', 'GMB_03', 'GMB_03', 'GMB_03', 'GMB_03', 'GMB_03', 'GMB_03', 'GMB_03', 'GMB_03', 'GMB_03', 'GMB_03', 'GMB_03', 'GMB_03', 'GMB_03', 'GMB_03', 'GMB_03', 'GMB_03', 'GMB_03', 'GMB_03', 'GMB_03', 'GMB_03', 'GMB_03', 'GMB_03', 'GMB_03', 'GMB_03', 'GMB_03', 'GMB_03', 'GMB_03', 'GMB_03', 'GMB_03', 'GMB_03', 'GMB_03', 'GMB_03', 'GMB_03', 'GMB_03', 'GMB_03', 'GMB_03', 'GMB_03', 'GMB_03', 'GMB_03', 'GMB_03', 'GMB_03', 'GMB_03', 'GMB_03', 'GMB_03', 'GMB_03', 'GMB_03', 'GMB_03', 'GMB_03', 'GMB_03', 'GMB_03', 'GMB_03', 'GMB_03', 'GMB_03', 'GMB_03', 'GMB_03', 'GMB_03', 'GMB_03', 'GMB_03', 'GMB_03', 'GMB_03', 'GMB_03', 'GMB_03', 'GMB_03', 'GMB_03', 'GMB_03', 'GMB_03', 'GMB_03', 'GMB_03', 'GMB_03', 'GMB_03', 'GMB_03', 'GMB_03', 'GMB_03', 'GMB_03', 'GMB_03', 'GMB_03', 'GMB_03', 'GMB_03', 'GMB_03', 'GMB_03', 'GMB_03', 'GMB_03', 'GMB_03', 'GMB_03', 'GMB_03', 'GMB_03', 'GMB_03', 'GMB_03', 'GMB_03', 'GMB_03', 'GMB_03', 'GMB_03', 'GMB_03', 'GMB_03', 'GMB_03', 'GMB_04', 'GMB_04', 'GMB_04', 'GMB_04', 'GMB_04', 'GMB_04', 'GMB_04', 'GMB_04', 'GMB_04', 'GMB_04', 'GMB_04', 'GMB_04', 'GMB_04', 'GMB_04', 'GMB_04', 'GMB_04', 'GMB_04', 'GMB_04', 'GMB_04', 'GMB_04', 'GMB_04', 'GMB_04', 'GMB_04', 'GMB_04', 'GMB_04', 'GMB_04', 'GMB_04', 'GMB_04', 'GMB_04', 'GMB_04', 'GMB_04', 'GMB_04', 'GMB_04', 'GMB_04', 'GMB_04', 'GMB_04', 'GMB_04', 'GMB_04', 'GMB_04', 'GMB_04', 'GMB_04', 'GMB_04', 'GMB_04', 'GMB_04', 'GMB_04', 'GMB_04', 'GMB_04', 'GMB_04', 'GMB_04', 'GMB_04', 'GMB_04', 'GMB_04', 'GMB_04', 'GMB_04', 'GMB_04', 'GMB_04', 'GMB_04', 'GMB_04', 'GMB_04', 'GMB_04', 'GMB_04', 'GMB_04', 'GMB_04', 'GMB_04', 'GMB_04', 'GMB_04', 'GMB_04', 'GMB_04', 'GMB_04', 'GMB_04', 'GMB_04', 'GMB_04', 'GMB_04', 'GMB_04', 'GMB_04', 'GMB_04', 'GMB_04', 'GMB_04', 'GMB_04', 'GMB_04', 'GMB_04', 'GMB_04', 'GMB_04', 'GMB_04', 'GMB_04', 'GMB_04', 'GMB_04', 'GMB_04', 'GMB_04', 'GMB_04', 'GMB_04', 'GMB_04', 'GMB_04', 'GMB_04', 'GMB_04', 'GMB_04', 'GMB_04', 'GMB_04', 'GMB_04', 'GMB_04', 'GMB_04', 'GMB_04', 'GMB_04', 'GMB_04', 'GMB_04', 'GMB_04', 'GMB_04', 'GMB_04', 'GMB_04', 'GMB_04', 'GMB_04', 'GMB_04', 'GMB_04', 'GMB_04', 'GMB_04', 'GMB_04', 'GMB_04', 'GMB_04', 'GMB_04', 'GMB_04', 'GMB_04', 'GMB_04', 'GMB_05', 'GMB_05', 'GMB_05', 'GMB_05', 'GMB_05', 'GMB_05', 'GMB_05', 'GMB_05', 'GMB_05', 'GMB_05', 'GMB_05', 'GMB_05', 'GMB_05', 'GMB_05', 'GMB_05', 'GMB_05', 'GMB_05', 'GMB_05', 'GMB_05', 'GMB_05', 'GMB_05', 'GMB_05', 'GMB_05', 'GMB_05', 'GMB_05', 'GMB_05', 'GMB_05', 'GMB_05', 'GMB_05', 'GMB_05', 'GMB_05', 'GMB_05', 'GMB_05', 'GMB_05', 'GMB_05', 'GMB_05', 'GMB_05', 'GMB_05', 'GMB_05', 'GMB_05', 'GMB_05', 'GMB_05', 'GMB_05', 'GMB_05', 'GMB_05', 'GMB_05', 'GMB_05', 'GMB_05', 'GMB_05', 'GMB_05', 'GMB_05', 'GMB_05', 'GMB_05', 'GMB_05', 'GMB_05', 'GMB_05', 'GMB_05', 'GMB_05', 'GMB_05', 'GMB_05', 'GMB_05', 'GMB_05', 'GMB_05', 'GMB_05', 'GMB_05', 'GMB_05', 'GMB_05', 'GMB_05', 'GMB_05', 'GMB_05', 'GMB_05', 'GMB_05', 'GMB_05', 'GMB_05', 'GMB_05', 'GMB_05', 'GMB_05', 'GMB_05', 'GMB_05', 'GMB_05', 'GMB_05', 'GMB_05', 'GMB_05', 'GMB_05', 'GMB_05', 'GMB_05', 'GMB_05', 'GMB_05', 'GMB_05', 'GMB_05', 'GMB_05', 'GMB_05', 'GMB_05', 'GMB_05', 'GMB_05', 'GMB_05', 'GMB_05', 'GMB_05', 'GMB_05', 'GMB_05', 'GMB_05', 'GMB_05', 'GMB_05', 'GMB_05', 'GMB_05', 'GMB_05', 'GMB_05', 'GMB_05', 'GMB_05', 'GMB_05', 'GMB_05', 'GMB_05', 'GMB_05', 'GMB_05', 'GMB_05', 'GMB_05', 'GMB_05', 'GMB_05', 'GMB_05', 'GMB_05', 'GMB_05', 'GMB_02', 'GMB_02', 'GMB_02', 'GMB_02', 'GMB_02', 'GMB_02', 'GMB_02', 'GMB_02', 'GMB_02', 'GMB_02', 'GMB_02', 'GMB_02', 'GMB_02', 'GMB_02', 'GMB_02', 'GMB_02', 'GMB_02', 'GMB_02', 'GMB_02', 'GMB_02', 'GMB_02', 'GMB_02', 'GMB_02', 'GMB_02', 'GMB_02', 'GMB_02', 'GMB_02', 'GMB_02', 'GMB_02', 'GMB_02', 'GMB_02', 'GMB_02', 'GMB_02', 'GMB_02', 'GMB_02', 'GMB_02', 'GMB_02', 'GMB_02', 'GMB_02', 'GMB_02', 'GMB_02', 'GMB_02', 'GMB_02', 'GMB_02', 'GMB_02', 'GMB_02', 'GMB_02', 'GMB_02', 'GMB_02', 'GMB_02', 'GMB_02', 'GMB_02', 'GMB_02', 'GMB_02', 'GMB_02', 'GMB_02', 'GMB_02', 'GMB_02', 'GMB_02', 'GMB_02', 'GMB_02', 'GMB_02', 'GMB_02', 'GMB_02', 'GMB_02', 'GMB_02', 'GMB_02', 'GMB_02', 'GMB_02', 'GMB_02', 'GMB_02', 'GMB_02', 'GMB_02', 'GMB_02', 'GMB_02', 'GMB_02', 'GMB_02', 'GMB_02', 'GMB_02', 'GMB_02', 'GMB_02', 'GMB_02', 'GMB_02', 'GMB_02', 'GMB_02', 'GMB_02', 'GMB_02', 'GMB_02', 'GMB_02', 'GMB_02', 'GMB_02', 'GMB_02', 'GMB_02', 'GMB_02', 'GMB_02', 'GMB_02', 'GMB_02', 'GMB_02', 'GMB_02', 'GMB_02', 'GMB_02', 'GMB_02', 'GMB_02', 'GMB_02', 'GMB_02', 'GMB_02', 'GMB_02', 'GMB_02', 'GMB_02', 'GMB_02', 'GMB_02', 'GMB_02', 'GMB_02']\n"
          ],
          "name": "stdout"
        }
      ]
    },
    {
      "cell_type": "code",
      "metadata": {
        "id": "9lsir_bcS4_J"
      },
      "source": [
        "lb = LabelBinarizer()\n",
        "labels = lb.fit_transform(labels)"
      ],
      "execution_count": 7,
      "outputs": []
    },
    {
      "cell_type": "code",
      "metadata": {
        "colab": {
          "base_uri": "https://localhost:8080/"
        },
        "id": "tm1iZyI8S8Hh",
        "outputId": "1a500048-a91d-4c45-d4ea-d97d8c538cc1"
      },
      "source": [
        "print(labels)"
      ],
      "execution_count": 8,
      "outputs": [
        {
          "output_type": "stream",
          "text": [
            "[[1 0 0 0 0]\n",
            " [1 0 0 0 0]\n",
            " [1 0 0 0 0]\n",
            " ...\n",
            " [0 1 0 0 0]\n",
            " [0 1 0 0 0]\n",
            " [0 1 0 0 0]]\n"
          ],
          "name": "stdout"
        }
      ]
    },
    {
      "cell_type": "code",
      "metadata": {
        "colab": {
          "base_uri": "https://localhost:8080/"
        },
        "id": "thOM1iFHTAIS",
        "outputId": "6a67dadf-d697-4847-bbde-88d22d58e3a7"
      },
      "source": [
        "(trainX, testX, trainY, testY) = train_test_split(np.array(data),\tnp.array(labels), test_size=0.25, shuffle=True)\n",
        "print(trainX.shape)\n",
        "print(testX.shape)"
      ],
      "execution_count": 9,
      "outputs": [
        {
          "output_type": "stream",
          "text": [
            "(438, 64, 64, 3)\n",
            "(146, 64, 64, 3)\n"
          ],
          "name": "stdout"
        }
      ]
    },
    {
      "cell_type": "code",
      "metadata": {
        "colab": {
          "base_uri": "https://localhost:8080/"
        },
        "id": "oy1YJIgiTD4q",
        "outputId": "2a7ff760-295e-4e25-a31e-7c4e421000f7"
      },
      "source": [
        "from keras.layers import Convolution2D, MaxPool2D\n",
        "from keras.models import Sequential\n",
        "from keras.layers.core import Flatten, Dense\n",
        "\n",
        "model1 = Sequential()\n",
        "model1.add(Convolution2D(21, (3,3), activation='relu', input_shape=(64,64,3)))\n",
        "model1.add(MaxPool2D(2,2))\n",
        "model1.add(Convolution2D(21, (3,3), activation='relu'))\n",
        "model1.add(MaxPool2D(2,2))\n",
        "\n",
        "#fully connected layer\n",
        "model1.add(Flatten())\n",
        "model1.add(Dense(100, activation='relu'))\n",
        "model1.add(Dense(5, activation='softmax'))\n",
        "\n",
        "model1.summary()"
      ],
      "execution_count": 10,
      "outputs": [
        {
          "output_type": "stream",
          "text": [
            "Model: \"sequential\"\n",
            "_________________________________________________________________\n",
            "Layer (type)                 Output Shape              Param #   \n",
            "=================================================================\n",
            "conv2d (Conv2D)              (None, 62, 62, 21)        588       \n",
            "_________________________________________________________________\n",
            "max_pooling2d (MaxPooling2D) (None, 31, 31, 21)        0         \n",
            "_________________________________________________________________\n",
            "conv2d_1 (Conv2D)            (None, 29, 29, 21)        3990      \n",
            "_________________________________________________________________\n",
            "max_pooling2d_1 (MaxPooling2 (None, 14, 14, 21)        0         \n",
            "_________________________________________________________________\n",
            "flatten (Flatten)            (None, 4116)              0         \n",
            "_________________________________________________________________\n",
            "dense (Dense)                (None, 100)               411700    \n",
            "_________________________________________________________________\n",
            "dense_1 (Dense)              (None, 5)                 505       \n",
            "=================================================================\n",
            "Total params: 416,783\n",
            "Trainable params: 416,783\n",
            "Non-trainable params: 0\n",
            "_________________________________________________________________\n"
          ],
          "name": "stdout"
        }
      ]
    },
    {
      "cell_type": "code",
      "metadata": {
        "colab": {
          "base_uri": "https://localhost:8080/"
        },
        "id": "_6w6kiQRTa5C",
        "outputId": "44907ef2-8676-4aa0-d147-20a4b8d8c82d"
      },
      "source": [
        "print(\"[INFO] training network...\")\n",
        "opt = Adam(lr=1e-3, decay=1e-3 / 50)\n",
        "model1.compile(loss=\"categorical_crossentropy\", optimizer=opt, metrics=[\"accuracy\"])"
      ],
      "execution_count": 11,
      "outputs": [
        {
          "output_type": "stream",
          "text": [
            "[INFO] training network...\n"
          ],
          "name": "stdout"
        }
      ]
    },
    {
      "cell_type": "code",
      "metadata": {
        "colab": {
          "base_uri": "https://localhost:8080/"
        },
        "id": "XLDFFDF5Tu8C",
        "outputId": "9617b197-456d-449e-dfa9-dd2a9bb83bc4"
      },
      "source": [
        "H = model1.fit(trainX, trainY, validation_data=(testX,testY), epochs=25,batch_size=30)"
      ],
      "execution_count": 12,
      "outputs": [
        {
          "output_type": "stream",
          "text": [
            "Epoch 1/25\n",
            "15/15 [==============================] - 2s 111ms/step - loss: 1.6726 - accuracy: 0.2169 - val_loss: 1.5922 - val_accuracy: 0.1918\n",
            "Epoch 2/25\n",
            "15/15 [==============================] - 2s 115ms/step - loss: 1.5579 - accuracy: 0.3174 - val_loss: 1.5112 - val_accuracy: 0.3904\n",
            "Epoch 3/25\n",
            "15/15 [==============================] - 3s 193ms/step - loss: 1.4177 - accuracy: 0.4224 - val_loss: 1.3965 - val_accuracy: 0.3630\n",
            "Epoch 4/25\n",
            "15/15 [==============================] - 3s 196ms/step - loss: 1.2601 - accuracy: 0.4817 - val_loss: 1.2281 - val_accuracy: 0.4658\n",
            "Epoch 5/25\n",
            "15/15 [==============================] - 2s 130ms/step - loss: 1.1004 - accuracy: 0.5616 - val_loss: 1.0860 - val_accuracy: 0.5137\n",
            "Epoch 6/25\n",
            "15/15 [==============================] - 2s 102ms/step - loss: 1.0276 - accuracy: 0.6187 - val_loss: 1.0251 - val_accuracy: 0.5753\n",
            "Epoch 7/25\n",
            "15/15 [==============================] - 2s 102ms/step - loss: 0.9588 - accuracy: 0.6279 - val_loss: 1.0077 - val_accuracy: 0.5685\n",
            "Epoch 8/25\n",
            "15/15 [==============================] - 2s 101ms/step - loss: 0.8816 - accuracy: 0.6438 - val_loss: 1.0079 - val_accuracy: 0.6164\n",
            "Epoch 9/25\n",
            "15/15 [==============================] - 2s 101ms/step - loss: 0.8421 - accuracy: 0.6781 - val_loss: 0.8872 - val_accuracy: 0.6164\n",
            "Epoch 10/25\n",
            "15/15 [==============================] - 2s 102ms/step - loss: 0.7458 - accuracy: 0.7009 - val_loss: 0.8385 - val_accuracy: 0.6507\n",
            "Epoch 11/25\n",
            "15/15 [==============================] - 2s 102ms/step - loss: 0.6641 - accuracy: 0.7626 - val_loss: 0.8559 - val_accuracy: 0.6712\n",
            "Epoch 12/25\n",
            "15/15 [==============================] - 2s 104ms/step - loss: 0.6672 - accuracy: 0.7237 - val_loss: 0.8177 - val_accuracy: 0.6370\n",
            "Epoch 13/25\n",
            "15/15 [==============================] - 2s 101ms/step - loss: 0.6051 - accuracy: 0.7831 - val_loss: 0.7867 - val_accuracy: 0.6644\n",
            "Epoch 14/25\n",
            "15/15 [==============================] - 2s 102ms/step - loss: 0.5158 - accuracy: 0.8356 - val_loss: 0.7882 - val_accuracy: 0.6986\n",
            "Epoch 15/25\n",
            "15/15 [==============================] - 2s 103ms/step - loss: 0.5011 - accuracy: 0.8128 - val_loss: 0.7425 - val_accuracy: 0.6986\n",
            "Epoch 16/25\n",
            "15/15 [==============================] - 2s 103ms/step - loss: 0.4758 - accuracy: 0.8470 - val_loss: 0.8285 - val_accuracy: 0.6849\n",
            "Epoch 17/25\n",
            "15/15 [==============================] - 2s 104ms/step - loss: 0.4316 - accuracy: 0.8425 - val_loss: 0.7483 - val_accuracy: 0.7671\n",
            "Epoch 18/25\n",
            "15/15 [==============================] - 2s 103ms/step - loss: 0.3681 - accuracy: 0.8721 - val_loss: 0.7865 - val_accuracy: 0.7192\n",
            "Epoch 19/25\n",
            "15/15 [==============================] - 2s 102ms/step - loss: 0.3627 - accuracy: 0.8813 - val_loss: 0.7001 - val_accuracy: 0.7603\n",
            "Epoch 20/25\n",
            "15/15 [==============================] - 2s 102ms/step - loss: 0.3150 - accuracy: 0.8973 - val_loss: 0.7610 - val_accuracy: 0.7808\n",
            "Epoch 21/25\n",
            "15/15 [==============================] - 2s 101ms/step - loss: 0.3504 - accuracy: 0.8790 - val_loss: 0.7055 - val_accuracy: 0.7671\n",
            "Epoch 22/25\n",
            "15/15 [==============================] - 2s 103ms/step - loss: 0.2798 - accuracy: 0.8973 - val_loss: 0.8070 - val_accuracy: 0.6986\n",
            "Epoch 23/25\n",
            "15/15 [==============================] - 2s 105ms/step - loss: 0.2632 - accuracy: 0.9201 - val_loss: 0.7126 - val_accuracy: 0.7740\n",
            "Epoch 24/25\n",
            "15/15 [==============================] - 2s 104ms/step - loss: 0.2490 - accuracy: 0.9178 - val_loss: 0.6938 - val_accuracy: 0.7808\n",
            "Epoch 25/25\n",
            "15/15 [==============================] - 2s 102ms/step - loss: 0.1997 - accuracy: 0.9384 - val_loss: 0.7671 - val_accuracy: 0.7466\n"
          ],
          "name": "stdout"
        }
      ]
    },
    {
      "cell_type": "code",
      "metadata": {
        "colab": {
          "base_uri": "https://localhost:8080/",
          "height": 590
        },
        "id": "oXxc3jmkT-cz",
        "outputId": "23ae23d8-a5b2-4e8c-a09a-2eaef1950690"
      },
      "source": [
        "import matplotlib.pyplot as plt\n",
        "\n",
        "print(H.history.keys())\n",
        "# summarize history for accuracy\n",
        "plt.plot(H.history['accuracy'])\n",
        "plt.plot(H.history['val_accuracy'])\n",
        "plt.title('model accuracy')\n",
        "plt.ylabel('accuracy')\n",
        "plt.xlabel('epoch')\n",
        "plt.legend(['train', 'test'], loc='upper left')\n",
        "plt.show()\n",
        "# summarize history for loss\n",
        "plt.plot(H.history['loss'])\n",
        "plt.plot(H.history['val_loss'])\n",
        "plt.title('model loss')\n",
        "plt.ylabel('loss')\n",
        "plt.xlabel('epoch')\n",
        "plt.legend(['train', 'test'], loc='upper left')\n",
        "plt.show()"
      ],
      "execution_count": 13,
      "outputs": [
        {
          "output_type": "stream",
          "text": [
            "dict_keys(['loss', 'accuracy', 'val_loss', 'val_accuracy'])\n"
          ],
          "name": "stdout"
        },
        {
          "output_type": "display_data",
          "data": {
            "image/png": "[encoded data removed]",
            "text/plain": [
              "<Figure size 432x288 with 1 Axes>"
            ]
          },
          "metadata": {
            "tags": [],
            "needs_background": "light"
          }
        },
        {
          "output_type": "display_data",
          "data": {
            "image/png": "[encoded data removed]",
            "text/plain": [
              "<Figure size 432x288 with 1 Axes>"
            ]
          },
          "metadata": {
            "tags": [],
            "needs_background": "light"
          }
        }
      ]
    },
    {
      "cell_type": "code",
      "metadata": {
        "colab": {
          "base_uri": "https://localhost:8080/"
        },
        "id": "1A0C3GsuUCxa",
        "outputId": "0f4c4e5b-9dff-4b68-ef78-9ba9ee9743e9"
      },
      "source": [
        "print(\"[INFO] evaluating network...\")\n",
        "predictions = model1.predict(testX, batch_size=32)\n",
        "print(classification_report(testY.argmax(axis=1),\n",
        "\tpredictions.argmax(axis=1), target_names=lb.classes_))"
      ],
      "execution_count": 14,
      "outputs": [
        {
          "output_type": "stream",
          "text": [
            "[INFO] evaluating network...\n",
            "              precision    recall  f1-score   support\n",
            "\n",
            "      GMB_01       0.62      0.54      0.58        28\n",
            "      GMB_02       0.73      0.73      0.73        26\n",
            "      GMB_03       0.92      0.76      0.83        29\n",
            "      GMB_04       0.72      0.79      0.75        33\n",
            "      GMB_05       0.75      0.90      0.82        30\n",
            "\n",
            "    accuracy                           0.75       146\n",
            "   macro avg       0.75      0.74      0.74       146\n",
            "weighted avg       0.75      0.75      0.74       146\n",
            "\n"
          ],
          "name": "stdout"
        }
      ]
    }
  ]
}